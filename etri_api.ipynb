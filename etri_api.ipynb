{
 "cells": [
  {
   "cell_type": "code",
   "execution_count": 15,
   "metadata": {},
   "outputs": [
    {
     "name": "stdout",
     "output_type": "stream",
     "text": [
      "Progress: |██████████████████████████████████████████████████| 100.0% Complete\n"
     ]
    }
   ],
   "source": [
    "import argparse\n",
    "import csv\n",
    "import json\n",
    "import os\n",
    "import time\n",
    "import urllib3\n",
    "import sys\n",
    "from glob import glob\n",
    "import config.config_keys as configs\n",
    "\n",
    "def morp_analysis():\n",
    "    api_key = configs.api_keys\n",
    "    directory = 'output'\n",
    "    input = './data/train/train_original_newspaper.json'\n",
    "    first_index = 2\n",
    "    last_index = 4950\n",
    "\n",
    "    # Initialize directory\n",
    "    if not os.path.exists(directory):\n",
    "        os.makedirs(directory)\n",
    "        \n",
    "    ### main process ###\n",
    "    with open(input, \"r\") as reader:\n",
    "        mylist = (json.load(reader))['documents']\n",
    "    mylist = mylist[first_index:last_index]\n",
    "    \n",
    "    l = len(mylist)\n",
    "    printProgressBar(0, l, prefix = 'Progress:', suffix = 'Complete', length = 50)\n",
    "    \n",
    "    with open('./' + directory + '/' + str(first_index) + '_' + str(last_index) + '.csv', 'w', newline = '') as w:\n",
    "        for idx, items in enumerate(mylist):\n",
    "            target = ''\n",
    "            for paragraph in items['text']:\n",
    "                for sentences in paragraph:\n",
    "                    target += sentences['sentence'] + ' '\n",
    "\n",
    "            processed_text = do_lang(api_key,target)\n",
    "            if processed_text.startswith('openapi error')==True:\n",
    "                print('openapi error')\n",
    "                break\n",
    "            else:\n",
    "                writer = csv.writer(w)\n",
    "                writer.writerow([items['media_name'], items['id'], target, processed_text, items['abstractive'][0], str(items['extractive'])])\n",
    "\n",
    "            time.sleep(0.01)\n",
    "            printProgressBar(idx + 1, l, prefix = 'Progress:', suffix = 'Complete', length = 50)\n",
    "        \n",
    "        \n",
    "def do_lang ( openapi_key, text ) :\n",
    "    openApiURL = \"http://aiopen.etri.re.kr:8000/WiseNLU\"\n",
    "    requestJson = { \"access_key\": openapi_key, \"argument\": { \"text\": text, \"analysis_code\": \"morp\" } }\n",
    "    http = urllib3.PoolManager()\n",
    "    response = http.request( \"POST\", openApiURL, headers={\"Content-Type\": \"application/json; charset=UTF-8\"}, body=json.dumps(requestJson))\n",
    "    \n",
    "    json_data = json.loads(response.data.decode('utf-8'))\n",
    "    json_result = json_data[\"result\"]\n",
    "    \n",
    "    if json_result == -1:\n",
    "        json_reason = json_data[\"reason\"]\n",
    "        if \"Invalid Access Key\" in json_reason:\n",
    "            print(json_reason)\n",
    "            print(\"Please check the openapi access key.\")\n",
    "            sys.exit()\n",
    "        return \"openapi error - \" + json_reason\n",
    "    else:\n",
    "        json_data = json.loads(response.data.decode('utf-8'))\n",
    "    \n",
    "        json_return_obj = json_data[\"return_object\"]\n",
    "        \n",
    "        return_result = \"\"\n",
    "        json_sentence = json_return_obj[\"sentence\"]\n",
    "        for json_morp in json_sentence:\n",
    "            for morp in json_morp[\"morp\"]:\n",
    "                return_result = return_result+str(morp[\"lemma\"])+\"/\"+str(morp[\"type\"])+\" \"\n",
    "\n",
    "        return return_result\n",
    "\n",
    "def save_txt(directory, first_index, idx, txt):\n",
    "    with open(directory + \"/\" +str(first_index+idx), 'w', encoding='utf-8') as f:\n",
    "        f.write(txt)\n",
    "\n",
    "# Print iterations progress\n",
    "def printProgressBar (iteration, total, prefix = '', suffix = '', decimals = 1, length = 100, fill = '█', printEnd = \"\\r\"):\n",
    "    \"\"\"\n",
    "    Call in a loop to create terminal progress bar\n",
    "    @params:\n",
    "        iteration   - Required  : current iteration (Int)\n",
    "        total       - Required  : total iterations (Int)\n",
    "        prefix      - Optional  : prefix string (Str)\n",
    "        suffix      - Optional  : suffix string (Str)\n",
    "        decimals    - Optional  : positive number of decimals in percent complete (Int)\n",
    "        length      - Optional  : character length of bar (Int)\n",
    "        fill        - Optional  : bar fill character (Str)\n",
    "        printEnd    - Optional  : end character (e.g. \"\\r\", \"\\r\\n\") (Str)\n",
    "    \"\"\"\n",
    "    percent = (\"{0:.\" + str(decimals) + \"f}\").format(100 * (iteration / float(total)))\n",
    "    filledLength = int(length * iteration // total)\n",
    "    bar = fill * filledLength + '-' * (length - filledLength)\n",
    "    print('\\r%s |%s| %s%% %s' % (prefix, bar, percent, suffix), end = printEnd)\n",
    "    # Print New Line on Complete\n",
    "    if iteration == total:\n",
    "        print()\n",
    "        \n",
    "morp_analysis()"
   ]
  },
  {
   "cell_type": "code",
   "execution_count": 14,
   "metadata": {},
   "outputs": [
    {
     "name": "stdout",
     "output_type": "stream",
     "text": [
      "[['쌀/NNG', '생산/NNG', '조정/NNG', '제/XSN', '는/JX', '벼/NNG', '를/JKO', '심/VV', '었/EP', '던/ETM', '논/NNG', '에/JKB', '벼/NNG', '대신/NNG', '사료/NNG', '작물/NNG', '이나/JC', '콩/NNG', '등/NNB', '다른/MM', '작물/NNG', '을/JKO', '심/VV', '으면/EC', '벼/NNG', '와/JKB', '의/JKG', '일정/NNG', '소득/NNG', '차/NNG', '를/JKO', '보전/NNG', '하/XSV', '어/EC', '주/VX', '는/ETM', '제도/NNG', '이/VCP', '다/EF'], ['올해/NNG', '전남/NNP', '의/JKG', '논/NNG', '다른/MM', '작물/NNG', '재배/NNG', '계획/NNG', '면적/NNG', '은/JX', '전국/NNG', '5/SN', '만/NR', 'ha/SL', '의/JKG', '약/MM', '21/SN', '%/SW', '이/VCP', 'ㄴ/ETM', '1/SN', '만/NR', '698/SN', 'ha/SL', '로/JKB', ',/SP', '세부/NNG', '시행/NNG', '지침/NNG', '을/JKO', '확정/NNG', ',/SP', '시군/NNG', '에/JKB', '통보/NNG', '하/XSV', '었/EP', '다/EF'], ['전남도/NNP', '는/JX', '돕/VV', '어/EC', '시군/NNG', '에/JKB', '관련/NNG', '기관/NNG', '과/JC', '농가/NNG', '등/NNB', '이/JKS', '참여/NNG', '하/XSV', '는/ETM', '‘/SS', '논/NNG', '타작/NNG', '물/XSN', '지원/NNG', '사업/NNG', '추진/NNG', '협의/NNG', '회/XSN', '’/SS', '를/JKO', '구성/NNG', ',/SP', '지역/NNG', '특성/NNG', '에/JKB', '맞/VV', '는/ETM', '작목/NNG', '선정/NNG', '및/MAJ', '사업/NNG', '심의/NNG', '등/NNB', '을/JKO', '본격/NNG', '추진/NNG', '하/XSV', 'ㄹ/ETM', '방침/NNG', '이/VCP', '다/EF']]\n",
      "[['시/NNG', '에/JKB', '따르/VV', '면/EC', '총/MM', '사업/NNG', '비/XSN', '8/SN', '억/NR', '원/NNB', '이/JKS', '투입/NNG', '되/XSV', 'ㄴ/ETM', '컬러/NNG', '빌리/VV', '지/EC', '사업/NNG', '은/JX', '‘/SS', '낮/NNG', '에/JKB', '는/JX', '색채/NNG', ',/SP', '밤/NNG', '에/JKB', '는/JX', '빛/NNG', '’/SS', '을/JKO', '주제/NNG', '로/JKB', '지난해/NNG', '초/NNB', '착공/NNG', '에/JKB', '들어가/VV', '었/EP', '다/EF'], ['특히/MAG', '자산/NNG', '마을/NNG', '주택/NNG', '70/SN', '여/XSN', '동/NNB', '은/JX', '동백/NNG', '꽃/NNG', '색/NNG', '으로/JKB', '새/MM', '단장/NNG', '을/JKO', '마치/VV', '었/EP', '다/EF']]\n"
     ]
    },
    {
     "name": "stderr",
     "output_type": "stream",
     "text": [
      "100%|██████████| 2/2 [00:00<00:00, 1815.32it/s]"
     ]
    },
    {
     "name": "stdout",
     "output_type": "stream",
     "text": [
      "./korean.train.0.json\n"
     ]
    },
    {
     "name": "stderr",
     "output_type": "stream",
     "text": [
      "\n"
     ]
    }
   ],
   "source": [
    "import argparse\n",
    "import time\n",
    "import os\n",
    "import pandas as pd\n",
    "import ast\n",
    "import json\n",
    "import six\n",
    "import glob\n",
    "import numpy as np\n",
    "from tqdm import tqdm\n",
    "\n",
    "def csvToJson():\n",
    "    mode = 'train'\n",
    "    news_dir = '0_2.csv'\n",
    "    output = '.'\n",
    "    \n",
    "    # Initialize directory\n",
    "    if not os.path.exists(output):\n",
    "        os.makedirs(output)\n",
    "        \n",
    "    if not news_dir.endswith(\"csv\"):\n",
    "        raise AssertionError(\"file is not a csv\")\n",
    "    \n",
    "        ### main process ###\n",
    "    mydf = pd.read_csv(news_dir)\n",
    "    \n",
    "    list_dic = []\n",
    "    for idx, row in mydf.iterrows():\n",
    "        raw = row['article_morp']\n",
    "        target_idx = ast.literal_eval(row['extractive'])\n",
    "        \n",
    "        sentences = raw.split(' ./SF ')[:-1]\n",
    "        src = [i.split(' ') for i in sentences]\n",
    "        tgt = [a for i,a in enumerate(src) if i in target_idx]\n",
    "        # print(tgt)\n",
    "        mydict = {}\n",
    "        mydict['src'] = src\n",
    "        mydict['tgt'] = tgt\n",
    "        list_dic.append(mydict)\n",
    "    \n",
    "    temp = []\n",
    "    for i,a in enumerate(tqdm(list_dic)):\n",
    "        if (i+1)%2!=0:\n",
    "            temp.append(a)\n",
    "        else:\n",
    "            filename = 'korean.'+mode+'.'+str(i//6)+'.json'\n",
    "            print(output+\"/\"+filename)\n",
    "\n",
    "            with open(output+\"/\"+filename, \"w\", encoding='utf8') as json_file:\n",
    "                json.dump(temp, json_file, ensure_ascii=False)\n",
    "            temp = []\n",
    "\n",
    "csvToJson()\n"
   ]
  },
  {
   "cell_type": "markdown",
   "metadata": {},
   "source": []
  }
 ],
 "metadata": {
  "kernelspec": {
   "display_name": "Python 3.9.12 ('test')",
   "language": "python",
   "name": "python3"
  },
  "language_info": {
   "codemirror_mode": {
    "name": "ipython",
    "version": 3
   },
   "file_extension": ".py",
   "mimetype": "text/x-python",
   "name": "python",
   "nbconvert_exporter": "python",
   "pygments_lexer": "ipython3",
   "version": "3.9.12"
  },
  "orig_nbformat": 4,
  "vscode": {
   "interpreter": {
    "hash": "2abd4f297ebe42b0b9fe44bc33daa4dca42bb7d51be45439f82d0a685687feba"
   }
  }
 },
 "nbformat": 4,
 "nbformat_minor": 2
}
